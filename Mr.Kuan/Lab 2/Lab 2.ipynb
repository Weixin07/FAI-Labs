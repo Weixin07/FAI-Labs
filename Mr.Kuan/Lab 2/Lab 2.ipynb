{
 "cells": [
  {
   "cell_type": "markdown",
   "id": "a78c58b8",
   "metadata": {},
   "source": [
    "# Lab 2"
   ]
  },
  {
   "cell_type": "markdown",
   "id": "91c1eeb6",
   "metadata": {},
   "source": [
    "## Part A: Math and Statistics"
   ]
  },
  {
   "cell_type": "markdown",
   "id": "22db3c3b",
   "metadata": {},
   "source": [
    "### Topic 1: Python Syntax, numpy, scipy, mean, median and mode"
   ]
  },
  {
   "cell_type": "markdown",
   "id": "38be5613",
   "metadata": {},
   "source": [
    "Assign 10 into ‘num1’."
   ]
  },
  {
   "cell_type": "code",
   "execution_count": 1,
   "id": "af64db06",
   "metadata": {},
   "outputs": [],
   "source": [
    "num1 = 10"
   ]
  },
  {
   "cell_type": "markdown",
   "id": "74b57c85",
   "metadata": {},
   "source": [
    "Print the output for ‘num1’."
   ]
  },
  {
   "cell_type": "code",
   "execution_count": 2,
   "id": "e05bc456",
   "metadata": {},
   "outputs": [
    {
     "name": "stdout",
     "output_type": "stream",
     "text": [
      "10\n"
     ]
    }
   ],
   "source": [
    "print(num1)"
   ]
  },
  {
   "cell_type": "markdown",
   "id": "39df638e",
   "metadata": {},
   "source": [
    "Request user input for num1."
   ]
  },
  {
   "cell_type": "code",
   "execution_count": 4,
   "id": "1a0b922b",
   "metadata": {},
   "outputs": [
    {
     "name": "stdout",
     "output_type": "stream",
     "text": [
      "Number 1: 8\n"
     ]
    }
   ],
   "source": [
    "num1 = input(\"Number 1: \")"
   ]
  },
  {
   "cell_type": "markdown",
   "id": "335410d8",
   "metadata": {},
   "source": [
    "Request user input for num2."
   ]
  },
  {
   "cell_type": "code",
   "execution_count": 5,
   "id": "0ce04ca3",
   "metadata": {},
   "outputs": [
    {
     "name": "stdout",
     "output_type": "stream",
     "text": [
      "Number 2: 3\n"
     ]
    }
   ],
   "source": [
    "num2 = input(\"Number 2: \")"
   ]
  },
  {
   "cell_type": "markdown",
   "id": "6c910ade",
   "metadata": {},
   "source": [
    "Calculate the addition total for num1 and num2."
   ]
  },
  {
   "cell_type": "code",
   "execution_count": 6,
   "id": "7656e5e1",
   "metadata": {},
   "outputs": [],
   "source": [
    "total = int(num1) + int(num2)"
   ]
  },
  {
   "cell_type": "markdown",
   "id": "46d5381d",
   "metadata": {},
   "source": [
    "Print the statement “The addition of num1 and num2 is ” and the sum of num1 and num2."
   ]
  },
  {
   "cell_type": "code",
   "execution_count": 7,
   "id": "f015e99a",
   "metadata": {},
   "outputs": [
    {
     "name": "stdout",
     "output_type": "stream",
     "text": [
      "The addition of  8  and  3  is  11\n"
     ]
    }
   ],
   "source": [
    "print(\"The addition of \", num1, \" and \", num2, \" is \", total)"
   ]
  },
  {
   "cell_type": "markdown",
   "id": "169ab4cf",
   "metadata": {},
   "source": [
    "Speed = 33, 67, 89, 56, 32, 12, 11, 90, 67, 45, 37, 27, 98, 99, 56, 45, 40, 87."
   ]
  },
  {
   "cell_type": "code",
   "execution_count": 8,
   "id": "055d21d2",
   "metadata": {},
   "outputs": [],
   "source": [
    "speed = [33, 67, 89, 56, 32, 12, 11, 90, 67, 45, 37, 27, 98, 99, 56, 45, 40, 87]"
   ]
  },
  {
   "cell_type": "markdown",
   "id": "f5f0b3b6",
   "metadata": {},
   "source": [
    "import numpy library"
   ]
  },
  {
   "cell_type": "code",
   "execution_count": 9,
   "id": "3275cb6b",
   "metadata": {},
   "outputs": [],
   "source": [
    "import numpy as np"
   ]
  },
  {
   "cell_type": "markdown",
   "id": "9c64bbe6",
   "metadata": {},
   "source": [
    "Find the average speed"
   ]
  },
  {
   "cell_type": "code",
   "execution_count": 10,
   "id": "6d157b78",
   "metadata": {},
   "outputs": [],
   "source": [
    "val_avg = np.mean(speed)"
   ]
  },
  {
   "cell_type": "code",
   "execution_count": 11,
   "id": "f7d526e6",
   "metadata": {},
   "outputs": [
    {
     "data": {
      "text/plain": [
       "55.05555555555556"
      ]
     },
     "execution_count": 11,
     "metadata": {},
     "output_type": "execute_result"
    }
   ],
   "source": [
    "val_avg"
   ]
  },
  {
   "cell_type": "markdown",
   "id": "a5ebf828",
   "metadata": {},
   "source": [
    "Find the median speed"
   ]
  },
  {
   "cell_type": "code",
   "execution_count": 12,
   "id": "a532c5f6",
   "metadata": {},
   "outputs": [],
   "source": [
    "val_median = np.median(speed)"
   ]
  },
  {
   "cell_type": "code",
   "execution_count": 13,
   "id": "b1856833",
   "metadata": {},
   "outputs": [
    {
     "data": {
      "text/plain": [
       "50.5"
      ]
     },
     "execution_count": 13,
     "metadata": {},
     "output_type": "execute_result"
    }
   ],
   "source": [
    "val_median"
   ]
  },
  {
   "cell_type": "markdown",
   "id": "42a44fe4",
   "metadata": {},
   "source": [
    "Find the mode speed"
   ]
  },
  {
   "cell_type": "code",
   "execution_count": 14,
   "id": "3ba39df3",
   "metadata": {},
   "outputs": [],
   "source": [
    "from scipy import stats"
   ]
  },
  {
   "cell_type": "code",
   "execution_count": 15,
   "id": "74ec4168",
   "metadata": {
    "collapsed": true
   },
   "outputs": [
    {
     "name": "stderr",
     "output_type": "stream",
     "text": [
      "C:\\Users\\kuan.yikjunn\\AppData\\Local\\Temp\\ipykernel_15812\\1858001840.py:1: FutureWarning: Unlike other reduction functions (e.g. `skew`, `kurtosis`), the default behavior of `mode` typically preserves the axis it acts along. In SciPy 1.11.0, this behavior will change: the default value of `keepdims` will become False, the `axis` over which the statistic is taken will be eliminated, and the value None will no longer be accepted. Set `keepdims` to True or False to avoid this warning.\n",
      "  val_mode = stats.mode(speed)\n"
     ]
    }
   ],
   "source": [
    "val_mode = stats.mode(speed)"
   ]
  },
  {
   "cell_type": "code",
   "execution_count": 16,
   "id": "53f698da",
   "metadata": {},
   "outputs": [
    {
     "data": {
      "text/plain": [
       "ModeResult(mode=array([45]), count=array([2]))"
      ]
     },
     "execution_count": 16,
     "metadata": {},
     "output_type": "execute_result"
    }
   ],
   "source": [
    "val_mode"
   ]
  },
  {
   "cell_type": "markdown",
   "id": "241ba721",
   "metadata": {},
   "source": [
    "Find the standard deviation of the speed = 32, 111, 138, 28, 59, 77, 97"
   ]
  },
  {
   "cell_type": "code",
   "execution_count": 17,
   "id": "17b8d3fa",
   "metadata": {},
   "outputs": [],
   "source": [
    "speed2 = [32, 111, 138, 28, 59, 77, 97]"
   ]
  },
  {
   "cell_type": "code",
   "execution_count": 18,
   "id": "1710f4e3",
   "metadata": {},
   "outputs": [],
   "source": [
    "val_std = np.std(speed2)"
   ]
  },
  {
   "cell_type": "code",
   "execution_count": 19,
   "id": "337d73c3",
   "metadata": {},
   "outputs": [
    {
     "data": {
      "text/plain": [
       "37.84501153334721"
      ]
     },
     "execution_count": 19,
     "metadata": {},
     "output_type": "execute_result"
    }
   ],
   "source": [
    "val_std"
   ]
  },
  {
   "cell_type": "markdown",
   "id": "ef75b0a3",
   "metadata": {},
   "source": [
    "## Part B: Graph"
   ]
  },
  {
   "cell_type": "markdown",
   "id": "fe315dce",
   "metadata": {},
   "source": [
    "### Topic 1: Plotting Graph using matplotlib"
   ]
  },
  {
   "cell_type": "markdown",
   "id": "7d3d7889",
   "metadata": {},
   "source": [
    "Purpose: to draw the straight-line graph from position x (0,0) and y (0,0). The plot function is used to draw the points (markers) in a diagram The function takes parameters for specifying points in the diagram. \n",
    "- Parameter 1 is an array containing the points on the x-axis. \n",
    "- Parameter 2 is an array containing the points on the y-axis.\n"
   ]
  },
  {
   "cell_type": "markdown",
   "id": "3689b654",
   "metadata": {},
   "source": [
    "Import matplotlib library"
   ]
  },
  {
   "cell_type": "code",
   "execution_count": 20,
   "id": "5392b97a",
   "metadata": {},
   "outputs": [],
   "source": [
    "import matplotlib.pyplot as plt"
   ]
  },
  {
   "cell_type": "markdown",
   "id": "22f45d68",
   "metadata": {},
   "source": [
    "Plot line graph based on the following coordinates\n",
    "- x-axis = 0, 7\n",
    "- y-axis = 0, 340"
   ]
  },
  {
   "cell_type": "code",
   "execution_count": 21,
   "id": "43d50750",
   "metadata": {},
   "outputs": [],
   "source": [
    "x = [0, 7]\n",
    "y = [0, 340]"
   ]
  },
  {
   "cell_type": "code",
   "execution_count": 22,
   "id": "443c71da",
   "metadata": {},
   "outputs": [
    {
     "data": {
      "image/png": "[encoded data removed]",
      "text/plain": [
       "<Figure size 640x480 with 1 Axes>"
      ]
     },
     "metadata": {},
     "output_type": "display_data"
    }
   ],
   "source": [
    "plt.plot(x, y)\n",
    "plt.show()"
   ]
  },
  {
   "cell_type": "markdown",
   "id": "88549515",
   "metadata": {},
   "source": [
    "Plot data point with the shape ‘x’ based on the following coordinates\n",
    "- x-axis = 1, 8\n",
    "- y-axis = 3, 10"
   ]
  },
  {
   "cell_type": "code",
   "execution_count": 23,
   "id": "82281689",
   "metadata": {},
   "outputs": [],
   "source": [
    "x = [1, 8]\n",
    "y = [3, 10]"
   ]
  },
  {
   "cell_type": "code",
   "execution_count": 25,
   "id": "07eb3d7f",
   "metadata": {},
   "outputs": [
    {
     "data": {
      "image/png": "[encoded data removed]",
      "text/plain": [
       "<Figure size 640x480 with 1 Axes>"
      ]
     },
     "metadata": {},
     "output_type": "display_data"
    }
   ],
   "source": [
    "plt.plot(x, y, 'x')\n",
    "plt.show()"
   ]
  },
  {
   "cell_type": "markdown",
   "id": "c051d6f8",
   "metadata": {},
   "source": [
    "Plot multiple line graph based on the following coordinates\n",
    "- x-axis = 1, 2, 6, 8\n",
    "- y-axis = 3, 8, 1, 10"
   ]
  },
  {
   "cell_type": "code",
   "execution_count": 26,
   "id": "60ccaf2f",
   "metadata": {},
   "outputs": [],
   "source": [
    "x = [1, 2, 6, 8]\n",
    "y = [3, 8, 1, 10]"
   ]
  },
  {
   "cell_type": "code",
   "execution_count": 27,
   "id": "27fe6249",
   "metadata": {},
   "outputs": [
    {
     "data": {
      "image/png": "[encoded data removed]",
      "text/plain": [
       "<Figure size 640x480 with 1 Axes>"
      ]
     },
     "metadata": {},
     "output_type": "display_data"
    }
   ],
   "source": [
    "plt.plot(x, y)\n",
    "plt.show()"
   ]
  },
  {
   "cell_type": "markdown",
   "id": "7322ff06",
   "metadata": {},
   "source": [
    "### Topic 2: Create Label and Title"
   ]
  },
  {
   "cell_type": "markdown",
   "id": "4d89c10f",
   "metadata": {},
   "source": [
    "Plot a line graph based on the following coordinates.\n",
    "- x-axis = 80, 85, 90, 95, 100, 105, 110, 115, 120, 125\n",
    "- y-axis = 240, 250, 260, 270, 280, 290, 300, 310, 320, 330"
   ]
  },
  {
   "cell_type": "code",
   "execution_count": 28,
   "id": "66a0e5e3",
   "metadata": {},
   "outputs": [],
   "source": [
    "x = [80, 85, 90, 95, 100, 105, 110, 115, 120, 125]\n",
    "y = [240, 250, 260, 270, 280, 290, 300, 310, 320, 330]"
   ]
  },
  {
   "cell_type": "markdown",
   "id": "48cca116",
   "metadata": {},
   "source": [
    "Set labels and title"
   ]
  },
  {
   "cell_type": "code",
   "execution_count": 29,
   "id": "56a24065",
   "metadata": {},
   "outputs": [],
   "source": [
    "xlabel = \"Average Pulse\"\n",
    "ylabel = \"Calories Burnage\"\n",
    "title = \"Sports Watch Data\""
   ]
  },
  {
   "cell_type": "code",
   "execution_count": 30,
   "id": "6338cf35",
   "metadata": {},
   "outputs": [
    {
     "data": {
      "image/png": "[encoded data removed]",
      "text/plain": [
       "<Figure size 640x480 with 1 Axes>"
      ]
     },
     "metadata": {},
     "output_type": "display_data"
    }
   ],
   "source": [
    "plt.plot(x, y)\n",
    "plt.xlabel(xlabel)\n",
    "plt.ylabel(ylabel)\n",
    "plt.title(title)\n",
    "plt.show()"
   ]
  },
  {
   "cell_type": "markdown",
   "id": "87c407ce",
   "metadata": {},
   "source": [
    "### Topic 3: Varieties of plots/graph"
   ]
  },
  {
   "cell_type": "markdown",
   "id": "d2662d4a",
   "metadata": {},
   "source": [
    "#### Scatter plot"
   ]
  },
  {
   "cell_type": "markdown",
   "id": "456c4111",
   "metadata": {},
   "source": [
    "Scatter plot: Use scatter() function to draw a scatter plot.\n",
    "- x-axis = 5, 10, 12, 3, 21, 8, 7, 19\n",
    "- y-axis = 16, 13, 4, 2, 9, 7, 2, 6"
   ]
  },
  {
   "cell_type": "code",
   "execution_count": 31,
   "id": "14bd9301",
   "metadata": {},
   "outputs": [],
   "source": [
    "x = [5, 10, 12, 3, 21, 8, 7, 19]\n",
    "y = [16, 13, 4, 2, 9, 7, 2, 6]"
   ]
  },
  {
   "cell_type": "code",
   "execution_count": 32,
   "id": "9a1724b8",
   "metadata": {},
   "outputs": [
    {
     "data": {
      "image/png": "[encoded data removed]",
      "text/plain": [
       "<Figure size 640x480 with 1 Axes>"
      ]
     },
     "metadata": {},
     "output_type": "display_data"
    }
   ],
   "source": [
    "plt.scatter(x, y)\n",
    "plt.show()"
   ]
  },
  {
   "cell_type": "markdown",
   "id": "bd525df3",
   "metadata": {},
   "source": [
    "#### Bar graph"
   ]
  },
  {
   "cell_type": "markdown",
   "id": "a9ed3dc4",
   "metadata": {},
   "source": [
    "Bar graph: Use bar() function to draw bar graph.\n",
    "- x-axis = A, B, C, D\n",
    "- y-axis = 3, 8, 1, 10"
   ]
  },
  {
   "cell_type": "code",
   "execution_count": 33,
   "id": "df02b2e8",
   "metadata": {},
   "outputs": [],
   "source": [
    "x = ['A', 'B', 'C', 'D']\n",
    "y = [3, 8, 1, 10]"
   ]
  },
  {
   "cell_type": "code",
   "execution_count": 35,
   "id": "cf71922d",
   "metadata": {
    "collapsed": true
   },
   "outputs": [
    {
     "data": {
      "image/png": "[encoded data removed]",
      "text/plain": [
       "<Figure size 640x480 with 1 Axes>"
      ]
     },
     "metadata": {},
     "output_type": "display_data"
    }
   ],
   "source": [
    "plt.bar(x, y)\n",
    "plt.show()"
   ]
  },
  {
   "cell_type": "code",
   "execution_count": 36,
   "id": "be3010a6",
   "metadata": {},
   "outputs": [
    {
     "data": {
      "image/png": "[encoded data removed]",
      "text/plain": [
       "<Figure size 640x480 with 1 Axes>"
      ]
     },
     "metadata": {},
     "output_type": "display_data"
    }
   ],
   "source": [
    "plt.barh(x, y)\n",
    "plt.show()"
   ]
  },
  {
   "cell_type": "markdown",
   "id": "951caa24",
   "metadata": {},
   "source": [
    "#### Histogram"
   ]
  },
  {
   "cell_type": "markdown",
   "id": "26c1559e",
   "metadata": {},
   "source": [
    "Histogram plot: Use hist() function to draw a histogram with the following distribution\n",
    "np.random.normal(170, 10, 250)"
   ]
  },
  {
   "cell_type": "code",
   "execution_count": 37,
   "id": "8cf1a6d7",
   "metadata": {},
   "outputs": [],
   "source": [
    "data = np.random.normal(170, 10, 250)"
   ]
  },
  {
   "cell_type": "code",
   "execution_count": 38,
   "id": "c82983cb",
   "metadata": {},
   "outputs": [
    {
     "data": {
      "image/png": "[encoded data removed]",
      "text/plain": [
       "<Figure size 640x480 with 1 Axes>"
      ]
     },
     "metadata": {},
     "output_type": "display_data"
    }
   ],
   "source": [
    "plt.hist(data)\n",
    "plt.show()"
   ]
  },
  {
   "cell_type": "markdown",
   "id": "2fbd7f0b",
   "metadata": {},
   "source": [
    "#### Pie chart"
   ]
  },
  {
   "cell_type": "markdown",
   "id": "803c2d5e",
   "metadata": {},
   "source": [
    "Pie chart: Use pie() function to draw a pie chart\n",
    "- y = 47, 16, 22, 15\n",
    "- label = Apple, Banana, Orange, Mango"
   ]
  },
  {
   "cell_type": "code",
   "execution_count": 39,
   "id": "f57c07c5",
   "metadata": {},
   "outputs": [],
   "source": [
    "y = [47, 16, 22, 15]\n",
    "label = [\"Apple\", \"Banana\", \"Orange\", \"Mango\"]"
   ]
  },
  {
   "cell_type": "code",
   "execution_count": 41,
   "id": "c573a39d",
   "metadata": {},
   "outputs": [
    {
     "data": {
      "image/png": "[encoded data removed]",
      "text/plain": [
       "<Figure size 640x480 with 1 Axes>"
      ]
     },
     "metadata": {},
     "output_type": "display_data"
    }
   ],
   "source": [
    "plt.pie(y, labels = label)\n",
    "plt.legend()\n",
    "plt.show()"
   ]
  },
  {
   "cell_type": "code",
   "execution_count": null,
   "id": "288b0790",
   "metadata": {},
   "outputs": [],
   "source": []
  }
 ],
 "metadata": {
  "kernelspec": {
   "display_name": "Python 3 (ipykernel)",
   "language": "python",
   "name": "python3"
  },
  "language_info": {
   "codemirror_mode": {
    "name": "ipython",
    "version": 3
   },
   "file_extension": ".py",
   "mimetype": "text/x-python",
   "name": "python",
   "nbconvert_exporter": "python",
   "pygments_lexer": "ipython3",
   "version": "3.10.9"
  }
 },
 "nbformat": 4,
 "nbformat_minor": 5
}
