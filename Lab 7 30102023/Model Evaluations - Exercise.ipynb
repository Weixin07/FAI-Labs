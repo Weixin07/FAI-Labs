{
 "cells": [
  {
   "cell_type": "markdown",
   "id": "bacdab6a",
   "metadata": {},
   "source": [
    "# Model Evaluations"
   ]
  },
  {
   "cell_type": "markdown",
   "id": "4590bed8",
   "metadata": {},
   "source": [
    "The study is focused on identify breast cancer patients using one of the classification models. Produce at least a model and evaluate your model using different metrics."
   ]
  },
  {
   "cell_type": "markdown",
   "id": "cedaaedb",
   "metadata": {},
   "source": [
    "## Import libraries"
   ]
  },
  {
   "cell_type": "markdown",
   "id": "8693e91b",
   "metadata": {},
   "source": [
    "Task 1: Import existing libraries \n",
    "- numpy\n",
    "- breast cancer data (load_breast_cancer) from sklearn datasets\n",
    "- train test split from sklearn model selection\n",
    "- any classification model (Logistic Regression, Random Forest, Decision Tree, etc.) from sklearn. i.e. sklearn.ensemble import RandomForestClassifier"
   ]
  },
  {
   "cell_type": "code",
   "execution_count": 1,
   "id": "a8fb2b06",
   "metadata": {},
   "outputs": [],
   "source": [
    "import numpy\n",
    "from sklearn.datasets import load_breast_cancer\n",
    "from sklearn.model_selection import train_test_split\n",
    "from sklearn.ensemble import RandomForestClassifier"
   ]
  },
  {
   "cell_type": "markdown",
   "id": "affdbb64",
   "metadata": {},
   "source": [
    "Task 2: Load dataset"
   ]
  },
  {
   "cell_type": "code",
   "execution_count": 2,
   "id": "aabc7ef0",
   "metadata": {},
   "outputs": [],
   "source": [
    "data = load_breast_cancer()"
   ]
  },
  {
   "cell_type": "markdown",
   "id": "0b9503c7",
   "metadata": {},
   "source": [
    "Task 3: Show data"
   ]
  },
  {
   "cell_type": "code",
   "execution_count": 3,
   "id": "94ba8e7a",
   "metadata": {},
   "outputs": [
    {
     "data": {
      "text/plain": [
       "{'data': array([[1.799e+01, 1.038e+01, 1.228e+02, ..., 2.654e-01, 4.601e-01,\n",
       "         1.189e-01],\n",
       "        [2.057e+01, 1.777e+01, 1.329e+02, ..., 1.860e-01, 2.750e-01,\n",
       "         8.902e-02],\n",
       "        [1.969e+01, 2.125e+01, 1.300e+02, ..., 2.430e-01, 3.613e-01,\n",
       "         8.758e-02],\n",
       "        ...,\n",
       "        [1.660e+01, 2.808e+01, 1.083e+02, ..., 1.418e-01, 2.218e-01,\n",
       "         7.820e-02],\n",
       "        [2.060e+01, 2.933e+01, 1.401e+02, ..., 2.650e-01, 4.087e-01,\n",
       "         1.240e-01],\n",
       "        [7.760e+00, 2.454e+01, 4.792e+01, ..., 0.000e+00, 2.871e-01,\n",
       "         7.039e-02]]),\n",
       " 'target': array([0, 0, 0, 0, 0, 0, 0, 0, 0, 0, 0, 0, 0, 0, 0, 0, 0, 0, 0, 1, 1, 1,\n",
       "        0, 0, 0, 0, 0, 0, 0, 0, 0, 0, 0, 0, 0, 0, 0, 1, 0, 0, 0, 0, 0, 0,\n",
       "        0, 0, 1, 0, 1, 1, 1, 1, 1, 0, 0, 1, 0, 0, 1, 1, 1, 1, 0, 1, 0, 0,\n",
       "        1, 1, 1, 1, 0, 1, 0, 0, 1, 0, 1, 0, 0, 1, 1, 1, 0, 0, 1, 0, 0, 0,\n",
       "        1, 1, 1, 0, 1, 1, 0, 0, 1, 1, 1, 0, 0, 1, 1, 1, 1, 0, 1, 1, 0, 1,\n",
       "        1, 1, 1, 1, 1, 1, 1, 0, 0, 0, 1, 0, 0, 1, 1, 1, 0, 0, 1, 0, 1, 0,\n",
       "        0, 1, 0, 0, 1, 1, 0, 1, 1, 0, 1, 1, 1, 1, 0, 1, 1, 1, 1, 1, 1, 1,\n",
       "        1, 1, 0, 1, 1, 1, 1, 0, 0, 1, 0, 1, 1, 0, 0, 1, 1, 0, 0, 1, 1, 1,\n",
       "        1, 0, 1, 1, 0, 0, 0, 1, 0, 1, 0, 1, 1, 1, 0, 1, 1, 0, 0, 1, 0, 0,\n",
       "        0, 0, 1, 0, 0, 0, 1, 0, 1, 0, 1, 1, 0, 1, 0, 0, 0, 0, 1, 1, 0, 0,\n",
       "        1, 1, 1, 0, 1, 1, 1, 1, 1, 0, 0, 1, 1, 0, 1, 1, 0, 0, 1, 0, 1, 1,\n",
       "        1, 1, 0, 1, 1, 1, 1, 1, 0, 1, 0, 0, 0, 0, 0, 0, 0, 0, 0, 0, 0, 0,\n",
       "        0, 0, 1, 1, 1, 1, 1, 1, 0, 1, 0, 1, 1, 0, 1, 1, 0, 1, 0, 0, 1, 1,\n",
       "        1, 1, 1, 1, 1, 1, 1, 1, 1, 1, 1, 0, 1, 1, 0, 1, 0, 1, 1, 1, 1, 1,\n",
       "        1, 1, 1, 1, 1, 1, 1, 1, 1, 0, 1, 1, 1, 0, 1, 0, 1, 1, 1, 1, 0, 0,\n",
       "        0, 1, 1, 1, 1, 0, 1, 0, 1, 0, 1, 1, 1, 0, 1, 1, 1, 1, 1, 1, 1, 0,\n",
       "        0, 0, 1, 1, 1, 1, 1, 1, 1, 1, 1, 1, 1, 0, 0, 1, 0, 0, 0, 1, 0, 0,\n",
       "        1, 1, 1, 1, 1, 0, 1, 1, 1, 1, 1, 0, 1, 1, 1, 0, 1, 1, 0, 0, 1, 1,\n",
       "        1, 1, 1, 1, 0, 1, 1, 1, 1, 1, 1, 1, 0, 1, 1, 1, 1, 1, 0, 1, 1, 0,\n",
       "        1, 1, 1, 1, 1, 1, 1, 1, 1, 1, 1, 1, 0, 1, 0, 0, 1, 0, 1, 1, 1, 1,\n",
       "        1, 0, 1, 1, 0, 1, 0, 1, 1, 0, 1, 0, 1, 1, 1, 1, 1, 1, 1, 1, 0, 0,\n",
       "        1, 1, 1, 1, 1, 1, 0, 1, 1, 1, 1, 1, 1, 1, 1, 1, 1, 0, 1, 1, 1, 1,\n",
       "        1, 1, 1, 0, 1, 0, 1, 1, 0, 1, 1, 1, 1, 1, 0, 0, 1, 0, 1, 0, 1, 1,\n",
       "        1, 1, 1, 0, 1, 1, 0, 1, 0, 1, 0, 0, 1, 1, 1, 0, 1, 1, 1, 1, 1, 1,\n",
       "        1, 1, 1, 1, 1, 0, 1, 0, 0, 1, 1, 1, 1, 1, 1, 1, 1, 1, 1, 1, 1, 1,\n",
       "        1, 1, 1, 1, 1, 1, 1, 1, 1, 1, 1, 1, 0, 0, 0, 0, 0, 0, 1]),\n",
       " 'frame': None,\n",
       " 'target_names': array(['malignant', 'benign'], dtype='<U9'),\n",
       " 'DESCR': '.. _breast_cancer_dataset:\\n\\nBreast cancer wisconsin (diagnostic) dataset\\n--------------------------------------------\\n\\n**Data Set Characteristics:**\\n\\n    :Number of Instances: 569\\n\\n    :Number of Attributes: 30 numeric, predictive attributes and the class\\n\\n    :Attribute Information:\\n        - radius (mean of distances from center to points on the perimeter)\\n        - texture (standard deviation of gray-scale values)\\n        - perimeter\\n        - area\\n        - smoothness (local variation in radius lengths)\\n        - compactness (perimeter^2 / area - 1.0)\\n        - concavity (severity of concave portions of the contour)\\n        - concave points (number of concave portions of the contour)\\n        - symmetry\\n        - fractal dimension (\"coastline approximation\" - 1)\\n\\n        The mean, standard error, and \"worst\" or largest (mean of the three\\n        worst/largest values) of these features were computed for each image,\\n        resulting in 30 features.  For instance, field 0 is Mean Radius, field\\n        10 is Radius SE, field 20 is Worst Radius.\\n\\n        - class:\\n                - WDBC-Malignant\\n                - WDBC-Benign\\n\\n    :Summary Statistics:\\n\\n    ===================================== ====== ======\\n                                           Min    Max\\n    ===================================== ====== ======\\n    radius (mean):                        6.981  28.11\\n    texture (mean):                       9.71   39.28\\n    perimeter (mean):                     43.79  188.5\\n    area (mean):                          143.5  2501.0\\n    smoothness (mean):                    0.053  0.163\\n    compactness (mean):                   0.019  0.345\\n    concavity (mean):                     0.0    0.427\\n    concave points (mean):                0.0    0.201\\n    symmetry (mean):                      0.106  0.304\\n    fractal dimension (mean):             0.05   0.097\\n    radius (standard error):              0.112  2.873\\n    texture (standard error):             0.36   4.885\\n    perimeter (standard error):           0.757  21.98\\n    area (standard error):                6.802  542.2\\n    smoothness (standard error):          0.002  0.031\\n    compactness (standard error):         0.002  0.135\\n    concavity (standard error):           0.0    0.396\\n    concave points (standard error):      0.0    0.053\\n    symmetry (standard error):            0.008  0.079\\n    fractal dimension (standard error):   0.001  0.03\\n    radius (worst):                       7.93   36.04\\n    texture (worst):                      12.02  49.54\\n    perimeter (worst):                    50.41  251.2\\n    area (worst):                         185.2  4254.0\\n    smoothness (worst):                   0.071  0.223\\n    compactness (worst):                  0.027  1.058\\n    concavity (worst):                    0.0    1.252\\n    concave points (worst):               0.0    0.291\\n    symmetry (worst):                     0.156  0.664\\n    fractal dimension (worst):            0.055  0.208\\n    ===================================== ====== ======\\n\\n    :Missing Attribute Values: None\\n\\n    :Class Distribution: 212 - Malignant, 357 - Benign\\n\\n    :Creator:  Dr. William H. Wolberg, W. Nick Street, Olvi L. Mangasarian\\n\\n    :Donor: Nick Street\\n\\n    :Date: November, 1995\\n\\nThis is a copy of UCI ML Breast Cancer Wisconsin (Diagnostic) datasets.\\nhttps://goo.gl/U2Uwz2\\n\\nFeatures are computed from a digitized image of a fine needle\\naspirate (FNA) of a breast mass.  They describe\\ncharacteristics of the cell nuclei present in the image.\\n\\nSeparating plane described above was obtained using\\nMultisurface Method-Tree (MSM-T) [K. P. Bennett, \"Decision Tree\\nConstruction Via Linear Programming.\" Proceedings of the 4th\\nMidwest Artificial Intelligence and Cognitive Science Society,\\npp. 97-101, 1992], a classification method which uses linear\\nprogramming to construct a decision tree.  Relevant features\\nwere selected using an exhaustive search in the space of 1-4\\nfeatures and 1-3 separating planes.\\n\\nThe actual linear program used to obtain the separating plane\\nin the 3-dimensional space is that described in:\\n[K. P. Bennett and O. L. Mangasarian: \"Robust Linear\\nProgramming Discrimination of Two Linearly Inseparable Sets\",\\nOptimization Methods and Software 1, 1992, 23-34].\\n\\nThis database is also available through the UW CS ftp server:\\n\\nftp ftp.cs.wisc.edu\\ncd math-prog/cpo-dataset/machine-learn/WDBC/\\n\\n.. topic:: References\\n\\n   - W.N. Street, W.H. Wolberg and O.L. Mangasarian. Nuclear feature extraction \\n     for breast tumor diagnosis. IS&T/SPIE 1993 International Symposium on \\n     Electronic Imaging: Science and Technology, volume 1905, pages 861-870,\\n     San Jose, CA, 1993.\\n   - O.L. Mangasarian, W.N. Street and W.H. Wolberg. Breast cancer diagnosis and \\n     prognosis via linear programming. Operations Research, 43(4), pages 570-577, \\n     July-August 1995.\\n   - W.H. Wolberg, W.N. Street, and O.L. Mangasarian. Machine learning techniques\\n     to diagnose breast cancer from fine-needle aspirates. Cancer Letters 77 (1994) \\n     163-171.',\n",
       " 'feature_names': array(['mean radius', 'mean texture', 'mean perimeter', 'mean area',\n",
       "        'mean smoothness', 'mean compactness', 'mean concavity',\n",
       "        'mean concave points', 'mean symmetry', 'mean fractal dimension',\n",
       "        'radius error', 'texture error', 'perimeter error', 'area error',\n",
       "        'smoothness error', 'compactness error', 'concavity error',\n",
       "        'concave points error', 'symmetry error',\n",
       "        'fractal dimension error', 'worst radius', 'worst texture',\n",
       "        'worst perimeter', 'worst area', 'worst smoothness',\n",
       "        'worst compactness', 'worst concavity', 'worst concave points',\n",
       "        'worst symmetry', 'worst fractal dimension'], dtype='<U23'),\n",
       " 'filename': 'breast_cancer.csv',\n",
       " 'data_module': 'sklearn.datasets.data'}"
      ]
     },
     "execution_count": 3,
     "metadata": {},
     "output_type": "execute_result"
    }
   ],
   "source": [
    "data"
   ]
  },
  {
   "cell_type": "markdown",
   "id": "b45dbc7a",
   "metadata": {},
   "source": [
    "Task 4: Assign independent variables to X value while dependent variable to y value"
   ]
  },
  {
   "cell_type": "code",
   "execution_count": 4,
   "id": "34728381",
   "metadata": {},
   "outputs": [],
   "source": [
    "# Assign features to X\n",
    "X = data.data\n",
    "\n",
    "# Assign target to y\n",
    "y = data.target\n",
    "\n",
    "##data.data contains the feature matrix, which are the independent variables.\n",
    "##data.target contains the labels, which are the dependent variables."
   ]
  },
  {
   "cell_type": "markdown",
   "id": "560f12ab",
   "metadata": {},
   "source": [
    "Task 5: Split the data into training and testing set. The training sample to testing sample ratio is 80:20"
   ]
  },
  {
   "cell_type": "code",
   "execution_count": 5,
   "id": "f12b3096",
   "metadata": {},
   "outputs": [],
   "source": [
    "# Split the data into training and testing sets\n",
    "X_train, X_test, y_train, y_test = train_test_split(X, y, test_size=0.2, random_state=42)\n",
    "\n",
    "##train_test_split: This function from scikit-learn splits arrays or matrices into random train and test subsets.\n",
    "##X, y: These are the features and labels you want to split.\n",
    "##test_size=0.2: This specifies that 20% of the data will be used for testing, which automatically means 80% will be used for training.\n",
    "##random_state=42: This is used for reproducibility. Using the same random_state will produce the same split each time the code is ran."
   ]
  },
  {
   "cell_type": "markdown",
   "id": "008640a7",
   "metadata": {},
   "source": [
    "Task 6: create a model that you have selected using default hyperparameters"
   ]
  },
  {
   "cell_type": "code",
   "execution_count": 6,
   "id": "a253e202",
   "metadata": {},
   "outputs": [],
   "source": [
    "rf = RandomForestClassifier()"
   ]
  },
  {
   "cell_type": "markdown",
   "id": "e643f7b1",
   "metadata": {},
   "source": [
    "Task 7:Fit the model using training dataset"
   ]
  },
  {
   "cell_type": "code",
   "execution_count": 7,
   "id": "229a5ec3",
   "metadata": {},
   "outputs": [
    {
     "data": {
      "text/html": [
       "<style>#sk-container-id-1 {color: black;}#sk-container-id-1 pre{padding: 0;}#sk-container-id-1 div.sk-toggleable {background-color: white;}#sk-container-id-1 label.sk-toggleable__label {cursor: pointer;display: block;width: 100%;margin-bottom: 0;padding: 0.3em;box-sizing: border-box;text-align: center;}#sk-container-id-1 label.sk-toggleable__label-arrow:before {content: \"▸\";float: left;margin-right: 0.25em;color: #696969;}#sk-container-id-1 label.sk-toggleable__label-arrow:hover:before {color: black;}#sk-container-id-1 div.sk-estimator:hover label.sk-toggleable__label-arrow:before {color: black;}#sk-container-id-1 div.sk-toggleable__content {max-height: 0;max-width: 0;overflow: hidden;text-align: left;background-color: #f0f8ff;}#sk-container-id-1 div.sk-toggleable__content pre {margin: 0.2em;color: black;border-radius: 0.25em;background-color: #f0f8ff;}#sk-container-id-1 input.sk-toggleable__control:checked~div.sk-toggleable__content {max-height: 200px;max-width: 100%;overflow: auto;}#sk-container-id-1 input.sk-toggleable__control:checked~label.sk-toggleable__label-arrow:before {content: \"▾\";}#sk-container-id-1 div.sk-estimator input.sk-toggleable__control:checked~label.sk-toggleable__label {background-color: #d4ebff;}#sk-container-id-1 div.sk-label input.sk-toggleable__control:checked~label.sk-toggleable__label {background-color: #d4ebff;}#sk-container-id-1 input.sk-hidden--visually {border: 0;clip: rect(1px 1px 1px 1px);clip: rect(1px, 1px, 1px, 1px);height: 1px;margin: -1px;overflow: hidden;padding: 0;position: absolute;width: 1px;}#sk-container-id-1 div.sk-estimator {font-family: monospace;background-color: #f0f8ff;border: 1px dotted black;border-radius: 0.25em;box-sizing: border-box;margin-bottom: 0.5em;}#sk-container-id-1 div.sk-estimator:hover {background-color: #d4ebff;}#sk-container-id-1 div.sk-parallel-item::after {content: \"\";width: 100%;border-bottom: 1px solid gray;flex-grow: 1;}#sk-container-id-1 div.sk-label:hover label.sk-toggleable__label {background-color: #d4ebff;}#sk-container-id-1 div.sk-serial::before {content: \"\";position: absolute;border-left: 1px solid gray;box-sizing: border-box;top: 0;bottom: 0;left: 50%;z-index: 0;}#sk-container-id-1 div.sk-serial {display: flex;flex-direction: column;align-items: center;background-color: white;padding-right: 0.2em;padding-left: 0.2em;position: relative;}#sk-container-id-1 div.sk-item {position: relative;z-index: 1;}#sk-container-id-1 div.sk-parallel {display: flex;align-items: stretch;justify-content: center;background-color: white;position: relative;}#sk-container-id-1 div.sk-item::before, #sk-container-id-1 div.sk-parallel-item::before {content: \"\";position: absolute;border-left: 1px solid gray;box-sizing: border-box;top: 0;bottom: 0;left: 50%;z-index: -1;}#sk-container-id-1 div.sk-parallel-item {display: flex;flex-direction: column;z-index: 1;position: relative;background-color: white;}#sk-container-id-1 div.sk-parallel-item:first-child::after {align-self: flex-end;width: 50%;}#sk-container-id-1 div.sk-parallel-item:last-child::after {align-self: flex-start;width: 50%;}#sk-container-id-1 div.sk-parallel-item:only-child::after {width: 0;}#sk-container-id-1 div.sk-dashed-wrapped {border: 1px dashed gray;margin: 0 0.4em 0.5em 0.4em;box-sizing: border-box;padding-bottom: 0.4em;background-color: white;}#sk-container-id-1 div.sk-label label {font-family: monospace;font-weight: bold;display: inline-block;line-height: 1.2em;}#sk-container-id-1 div.sk-label-container {text-align: center;}#sk-container-id-1 div.sk-container {/* jupyter's `normalize.less` sets `[hidden] { display: none; }` but bootstrap.min.css set `[hidden] { display: none !important; }` so we also need the `!important` here to be able to override the default hidden behavior on the sphinx rendered scikit-learn.org. See: https://github.com/scikit-learn/scikit-learn/issues/21755 */display: inline-block !important;position: relative;}#sk-container-id-1 div.sk-text-repr-fallback {display: none;}</style><div id=\"sk-container-id-1\" class=\"sk-top-container\"><div class=\"sk-text-repr-fallback\"><pre>RandomForestClassifier()</pre><b>In a Jupyter environment, please rerun this cell to show the HTML representation or trust the notebook. <br />On GitHub, the HTML representation is unable to render, please try loading this page with nbviewer.org.</b></div><div class=\"sk-container\" hidden><div class=\"sk-item\"><div class=\"sk-estimator sk-toggleable\"><input class=\"sk-toggleable__control sk-hidden--visually\" id=\"sk-estimator-id-1\" type=\"checkbox\" checked><label for=\"sk-estimator-id-1\" class=\"sk-toggleable__label sk-toggleable__label-arrow\">RandomForestClassifier</label><div class=\"sk-toggleable__content\"><pre>RandomForestClassifier()</pre></div></div></div></div></div>"
      ],
      "text/plain": [
       "RandomForestClassifier()"
      ]
     },
     "execution_count": 7,
     "metadata": {},
     "output_type": "execute_result"
    }
   ],
   "source": [
    "rf.fit(X_test, y_test)"
   ]
  },
  {
   "cell_type": "markdown",
   "id": "6a9cb181",
   "metadata": {},
   "source": [
    "Task 8: Predict the output of your model based on testing dataset (Note: not accuracy score)"
   ]
  },
  {
   "cell_type": "code",
   "execution_count": 8,
   "id": "a8438885",
   "metadata": {},
   "outputs": [],
   "source": [
    "y_pred = rf.predict(X_test)"
   ]
  },
  {
   "cell_type": "markdown",
   "id": "30598839",
   "metadata": {},
   "source": [
    "## Evaluation metrics"
   ]
  },
  {
   "cell_type": "markdown",
   "id": "05be3752",
   "metadata": {},
   "source": [
    "#### Accuracy"
   ]
  },
  {
   "attachments": {
    "accuracy.png": {
     "image/png": "[encoded data removed]"
    }
   },
   "cell_type": "markdown",
   "id": "55b82f49",
   "metadata": {},
   "source": [
    "![accuracy.png](attachment:accuracy.png)"
   ]
  },
  {
   "cell_type": "markdown",
   "id": "ac7e1544",
   "metadata": {},
   "source": [
    "Task 9: Import accuracy score library from sklearn metrics"
   ]
  },
  {
   "cell_type": "code",
   "execution_count": 9,
   "id": "9d2eb8c5",
   "metadata": {},
   "outputs": [],
   "source": [
    "from sklearn.metrics import accuracy_score"
   ]
  },
  {
   "cell_type": "markdown",
   "id": "5018aa8b",
   "metadata": {},
   "source": [
    "Task 10: Find the accuracy score of your model "
   ]
  },
  {
   "cell_type": "code",
   "execution_count": 10,
   "id": "7800d203",
   "metadata": {},
   "outputs": [
    {
     "data": {
      "text/plain": [
       "1.0"
      ]
     },
     "execution_count": 10,
     "metadata": {},
     "output_type": "execute_result"
    }
   ],
   "source": [
    "accuracy_score(y_test, y_pred)"
   ]
  },
  {
   "cell_type": "markdown",
   "id": "b42c3c8f",
   "metadata": {},
   "source": [
    "#### Confusion Matrix"
   ]
  },
  {
   "attachments": {
    "confusion%20matrix.png": {
     "image/png": "[encoded data removed]"
    }
   },
   "cell_type": "markdown",
   "id": "957b5ea0",
   "metadata": {},
   "source": [
    "There are four important terms in a confusion matrix:\n",
    "- True Positives (TP): These are the cases where the predicted “Yes” actually belonged to class “Yes”.\n",
    "- True Negatives (TN): These are the cases where the predicted “No” actually belonged to class “No”.\n",
    "- False Positives (FP): These are the cases where the predicted “Yes” actually belonged to class “No”.\n",
    "- False Negatives (FN): These are the cases where the predicted “No” actually belonged to class “Yes”.\n",
    "![confusion%20matrix.png](attachment:confusion%20matrix.png)"
   ]
  },
  {
   "cell_type": "markdown",
   "id": "257d947e",
   "metadata": {},
   "source": [
    "Task 11: Import plotting libaries\n",
    "- matplotlib\n",
    "- confusion matrix from sklearn metrics"
   ]
  },
  {
   "cell_type": "code",
   "execution_count": 11,
   "id": "b4882315",
   "metadata": {},
   "outputs": [],
   "source": [
    "import matplotlib as plt\n",
    "from sklearn.metrics import confusion_matrix"
   ]
  },
  {
   "cell_type": "markdown",
   "id": "f55aaa61",
   "metadata": {},
   "source": [
    "Task 12: use confusion matrix to display the result"
   ]
  },
  {
   "cell_type": "code",
   "execution_count": 12,
   "id": "2a420fec",
   "metadata": {},
   "outputs": [
    {
     "data": {
      "text/plain": [
       "array([[43,  0],\n",
       "       [ 0, 71]], dtype=int64)"
      ]
     },
     "execution_count": 12,
     "metadata": {},
     "output_type": "execute_result"
    }
   ],
   "source": [
    "confusion_matrix(y_test, y_pred)"
   ]
  },
  {
   "cell_type": "markdown",
   "id": "35b3ff92",
   "metadata": {},
   "source": [
    "### Question"
   ]
  },
  {
   "cell_type": "markdown",
   "id": "74470b71",
   "metadata": {},
   "source": [
    "- What is the value of your True Positive (TP)?\n",
    "- What is the value of your True Negative (TN)?\n",
    "- What is the value of your False Positive (FP)?\n",
    "- What is the value of your False Negative (FN)?"
   ]
  },
  {
   "cell_type": "markdown",
   "id": "04ee2dec",
   "metadata": {},
   "source": [
    "#### Precision"
   ]
  },
  {
   "attachments": {
    "precision.png": {
     "image/png": "[encoded data removed]"
    }
   },
   "cell_type": "markdown",
   "id": "220c57f8",
   "metadata": {},
   "source": [
    "Precision is the ratio of true positives (TP) by the sum of true positives (TP) and false positives (FP).\n",
    "![precision.png](attachment:precision.png)"
   ]
  },
  {
   "cell_type": "markdown",
   "id": "35b0268e",
   "metadata": {},
   "source": [
    "Task 13: Import precision score libary from sklearn metrics"
   ]
  },
  {
   "cell_type": "code",
   "execution_count": 13,
   "id": "f5b549ae",
   "metadata": {},
   "outputs": [],
   "source": [
    "from sklearn.metrics import precision_score"
   ]
  },
  {
   "cell_type": "markdown",
   "id": "ef7be92d",
   "metadata": {},
   "source": [
    "Task 14: Display the result of your precision score"
   ]
  },
  {
   "cell_type": "code",
   "execution_count": 14,
   "id": "c39055c3",
   "metadata": {},
   "outputs": [
    {
     "data": {
      "text/plain": [
       "1.0"
      ]
     },
     "execution_count": 14,
     "metadata": {},
     "output_type": "execute_result"
    }
   ],
   "source": [
    "precision_score(y_test, y_pred)"
   ]
  },
  {
   "cell_type": "markdown",
   "id": "36abb6dc",
   "metadata": {},
   "source": [
    "#### Recall"
   ]
  },
  {
   "attachments": {
    "recall.png": {
     "image/png": "[encoded data removed]"
    }
   },
   "cell_type": "markdown",
   "id": "9ae3a6a6",
   "metadata": {},
   "source": [
    "Recall is the ratio of true positives (TP) by the sum of true positives (TP) and false negatives (FN).\n",
    "![recall.png](attachment:recall.png)"
   ]
  },
  {
   "cell_type": "markdown",
   "id": "b74e4123",
   "metadata": {},
   "source": [
    "Task 15: Import recall library from sklearn metrics"
   ]
  },
  {
   "cell_type": "code",
   "execution_count": 15,
   "id": "bf5d6b88",
   "metadata": {},
   "outputs": [],
   "source": [
    "from sklearn.metrics import recall_score"
   ]
  },
  {
   "cell_type": "markdown",
   "id": "3ef032e9",
   "metadata": {},
   "source": [
    "Task 16: Display the result of your recall"
   ]
  },
  {
   "cell_type": "code",
   "execution_count": 16,
   "id": "220d21a3",
   "metadata": {},
   "outputs": [
    {
     "data": {
      "text/plain": [
       "1.0"
      ]
     },
     "execution_count": 16,
     "metadata": {},
     "output_type": "execute_result"
    }
   ],
   "source": [
    "recall_score(y_test, y_pred)"
   ]
  },
  {
   "cell_type": "markdown",
   "id": "c6da13bd",
   "metadata": {},
   "source": [
    "#### F1 score"
   ]
  },
  {
   "attachments": {
    "f1%20score.png": {
     "image/png": "[encoded data removed]"
    }
   },
   "cell_type": "markdown",
   "id": "38cca6b7",
   "metadata": {},
   "source": [
    "F1 score should be used when both precision and recall are important for the use case. F1 score is the harmonic mean of precision and recall. It lies between [0,1].\n",
    "![f1%20score.png](attachment:f1%20score.png)"
   ]
  },
  {
   "attachments": {
    "f%20beta%20score.png": {
     "image/png": "[encoded data removed]"
    }
   },
   "cell_type": "markdown",
   "id": "fab789fa",
   "metadata": {},
   "source": [
    "F1 score is derived from F Beta Score. F Beta score is the weighted harmonic mean of precision and recall.\n",
    "![f%20beta%20score.png](attachment:f%20beta%20score.png)\n",
    "- If both False Positives (FP) and False Negatives (FN) are important then β = 1.\n",
    "- If False Positive (FP) is important then β lies between o and 1.\n",
    "- If False Negative (FN) is important then β > 1."
   ]
  },
  {
   "cell_type": "markdown",
   "id": "f60f245d",
   "metadata": {},
   "source": [
    "Task 17: Import F1 score library from sklearn metrics"
   ]
  },
  {
   "cell_type": "code",
   "execution_count": 17,
   "id": "d12ba63c",
   "metadata": {},
   "outputs": [],
   "source": [
    "from sklearn.metrics import f1_score"
   ]
  },
  {
   "cell_type": "markdown",
   "id": "69eaba83",
   "metadata": {},
   "source": [
    "Task 18: Display the result of F1 score"
   ]
  },
  {
   "cell_type": "code",
   "execution_count": 18,
   "id": "d441d31c",
   "metadata": {},
   "outputs": [
    {
     "data": {
      "text/plain": [
       "1.0"
      ]
     },
     "execution_count": 18,
     "metadata": {},
     "output_type": "execute_result"
    }
   ],
   "source": [
    "f1_score(y_test, y_pred)"
   ]
  },
  {
   "cell_type": "markdown",
   "id": "e76de660",
   "metadata": {},
   "source": [
    "#### AUC-ROC Curve"
   ]
  },
  {
   "attachments": {
    "tpr.png": {
     "image/png": "[encoded data removed]"
    }
   },
   "cell_type": "markdown",
   "id": "ac5089fe",
   "metadata": {},
   "source": [
    "AUC-ROC Curve is a performance metric that is used to measure the performance for the classification model at different threshold values. ROC is Receiver Operating Characteristic Curve and AUC is Area Under Curve. The higher the value of AUC (Area under the curve), the better is our classifier in predicting the classes. AUC-ROC is mostly used in binary classification problems.\n",
    "![tpr.png](attachment:tpr.png)"
   ]
  },
  {
   "attachments": {
    "fpr.png": {
     "image/png": "[encoded data removed]"
    }
   },
   "cell_type": "markdown",
   "id": "166e5c62",
   "metadata": {},
   "source": [
    "The ROC curve is plotted between True Positive Rate (TPR) and False Positive Rate (FPR) i.e. TPR on the y-axis and FPR on the x-axis. AUC is the area under the ROC curve. An excellent classifier has an AUC value near 1, whereas a poor-performing classifier has an AOC value near 0. A classifier with an AOC score of 0.5 doesn’t have any class separation capacity.\n",
    "![fpr.png](attachment:fpr.png)"
   ]
  },
  {
   "cell_type": "markdown",
   "id": "d76b5c43",
   "metadata": {},
   "source": [
    "Task 19: Import ROC curve and AUC from sklearn metrics"
   ]
  },
  {
   "cell_type": "code",
   "execution_count": 19,
   "id": "06581881",
   "metadata": {},
   "outputs": [],
   "source": [
    "from sklearn.metrics import roc_curve, auc"
   ]
  },
  {
   "cell_type": "markdown",
   "id": "6fc03fb6",
   "metadata": {},
   "source": [
    "Task 20: get result from predictions"
   ]
  },
  {
   "cell_type": "code",
   "execution_count": 20,
   "id": "834669ae",
   "metadata": {},
   "outputs": [],
   "source": [
    "class_probabilities = rf.predict_proba(X_test)\n",
    "preds = class_probabilities[:,1]\n",
    "#just to get random forest's accuracy"
   ]
  },
  {
   "cell_type": "markdown",
   "id": "43ca1dc7",
   "metadata": {},
   "source": [
    "Task 21: get the value of False Positive Rate, True Positive Rate and treshold"
   ]
  },
  {
   "cell_type": "code",
   "execution_count": 21,
   "id": "ccc25eb2",
   "metadata": {},
   "outputs": [],
   "source": [
    "fpr, tpr, threshold = roc_curve(y_test, y_pred)"
   ]
  },
  {
   "cell_type": "markdown",
   "id": "1d2b00a8",
   "metadata": {},
   "source": [
    "Task 22: Get AUC ROC value using auc function"
   ]
  },
  {
   "cell_type": "code",
   "execution_count": 22,
   "id": "e35b5919",
   "metadata": {},
   "outputs": [],
   "source": [
    "roc_auc = auc(fpr, tpr)"
   ]
  },
  {
   "cell_type": "code",
   "execution_count": 23,
   "id": "55341d52",
   "metadata": {},
   "outputs": [
    {
     "data": {
      "text/plain": [
       "1.0"
      ]
     },
     "execution_count": 23,
     "metadata": {},
     "output_type": "execute_result"
    }
   ],
   "source": [
    "roc_auc"
   ]
  },
  {
   "cell_type": "markdown",
   "id": "696148b3",
   "metadata": {},
   "source": [
    "Task 23: Plot AUC ROC graph"
   ]
  },
  {
   "cell_type": "code",
   "execution_count": 24,
   "id": "12b4a1aa",
   "metadata": {},
   "outputs": [
    {
     "data": {
      "image/png": "[encoded data removed]",
      "text/plain": [
       "<Figure size 640x480 with 1 Axes>"
      ]
     },
     "metadata": {},
     "output_type": "display_data"
    }
   ],
   "source": [
    "import matplotlib.pyplot as ply\n",
    "\n",
    "ply.title('ROC Curve')\n",
    "ply.plot(fpr, tpr, 'b', label = 'AUC = %0.2f' %roc_auc)\n",
    "ply.legend(loc = 'lower right')\n",
    "ply.plot([0,1],[0,1],'r--')\n",
    "ply.xlim([0,1])\n",
    "ply.ylim([0,1])\n",
    "ply.xlabel('False Positive Rate')\n",
    "ply.ylabel('True Positive Rate')\n",
    "ply.show()"
   ]
  },
  {
   "cell_type": "markdown",
   "id": "6a93a23b",
   "metadata": {},
   "source": [
    "### Cross Validation score"
   ]
  },
  {
   "attachments": {
    "5-fold-cv.jpeg": {
     "image/jpeg": "[encoded data removed]"
    }
   },
   "cell_type": "markdown",
   "id": "cd8c3f46",
   "metadata": {},
   "source": [
    "Cross-validation is a resampling method that uses different portions of the data to test and train a model on different iterations. It is mainly used in settings where the goal is prediction, and one wants to estimate how accurately a predictive model will perform in practice.\n",
    "![5-fold-cv.jpeg](attachment:5-fold-cv.jpeg)"
   ]
  },
  {
   "cell_type": "markdown",
   "id": "c2965273",
   "metadata": {},
   "source": [
    "Task 24: Import cross validation score libary from sklearn model selection"
   ]
  },
  {
   "cell_type": "code",
   "execution_count": 25,
   "id": "ce57afe5",
   "metadata": {},
   "outputs": [],
   "source": [
    "from sklearn.model_selection import cross_val_score"
   ]
  },
  {
   "cell_type": "markdown",
   "id": "e456776b",
   "metadata": {},
   "source": [
    "Task 25: Get all the scores from cross validation using training dataset"
   ]
  },
  {
   "cell_type": "code",
   "execution_count": 26,
   "id": "251cdc6f",
   "metadata": {},
   "outputs": [],
   "source": [
    "valid_score = cross_val_score(rf, X, y)"
   ]
  },
  {
   "cell_type": "markdown",
   "id": "03cb9c6e",
   "metadata": {},
   "source": [
    "Task 26: Calculate the average of cross validation scores"
   ]
  },
  {
   "cell_type": "code",
   "execution_count": 27,
   "id": "babd02b1",
   "metadata": {},
   "outputs": [],
   "source": [
    "import numpy as np\n",
    "\n",
    "avg_score = np.mean(valid_score)"
   ]
  },
  {
   "cell_type": "code",
   "execution_count": 28,
   "id": "be7aa9d0",
   "metadata": {},
   "outputs": [
    {
     "data": {
      "text/plain": [
       "0.9595714951094549"
      ]
     },
     "execution_count": 28,
     "metadata": {},
     "output_type": "execute_result"
    }
   ],
   "source": [
    "avg_score"
   ]
  },
  {
   "cell_type": "code",
   "execution_count": null,
   "id": "181e3325",
   "metadata": {},
   "outputs": [],
   "source": []
  }
 ],
 "metadata": {
  "kernelspec": {
   "display_name": "Python 3 (ipykernel)",
   "language": "python",
   "name": "python3"
  },
  "language_info": {
   "codemirror_mode": {
    "name": "ipython",
    "version": 3
   },
   "file_extension": ".py",
   "mimetype": "text/x-python",
   "name": "python",
   "nbconvert_exporter": "python",
   "pygments_lexer": "ipython3",
   "version": "3.11.5"
  }
 },
 "nbformat": 4,
 "nbformat_minor": 5
}
